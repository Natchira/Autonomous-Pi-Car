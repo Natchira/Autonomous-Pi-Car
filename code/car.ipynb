{
 "cells": [
  {
   "cell_type": "code",
   "execution_count": null,
   "metadata": {
    "_cell_guid": "b1076dfc-b9ad-4769-8c92-a6c4dae69d19",
    "_uuid": "8f2839f25d086af736a60e9eeb907d3b93b6e0e5",
    "trusted": true
   },
   "outputs": [],
   "source": [
    "# This Python 3 environment comes with many helpful analytics libraries installed\n",
    "# It is defined by the kaggle/python Docker image: https://github.com/kaggle/docker-python\n",
    "# For example, here's several helpful packages to load\n",
    "\n",
    "import numpy as np # linear algebra\n",
    "import pandas as pd # data processing, CSV file I/O (e.g. pd.read_csv)\n",
    "\n",
    "# Input data files are available in the read-only \"../input/\" directory\n",
    "# For example, running this (by clicking run or pressing Shift+Enter) will list all files under the input directory\n",
    "\n",
    "import os\n",
    "for dirname, _, filenames in os.walk('/kaggle/input'):\n",
    "    for filename in filenames:\n",
    "        print(os.path.join(dirname, filename))\n",
    "\n",
    "# You can write up to 20GB to the current directory (/kaggle/working/) that gets preserved as output when you create a version using \"Save & Run All\" \n",
    "# You can also write temporary files to /kaggle/temp/, but they won't be saved outside of the current session"
   ]
  },
  {
   "cell_type": "code",
   "execution_count": null,
   "metadata": {
    "execution": {
     "iopub.execute_input": "2025-05-07T11:47:56.769746Z",
     "iopub.status.busy": "2025-05-07T11:47:56.769521Z",
     "iopub.status.idle": "2025-05-07T11:48:13.387076Z",
     "shell.execute_reply": "2025-05-07T11:48:13.386306Z",
     "shell.execute_reply.started": "2025-05-07T11:47:56.769720Z"
    },
    "trusted": true
   },
   "outputs": [
    {
     "name": "stderr",
     "output_type": "stream",
     "text": [
      "2025-05-07 11:48:00.941742: E external/local_xla/xla/stream_executor/cuda/cuda_fft.cc:477] Unable to register cuFFT factory: Attempting to register factory for plugin cuFFT when one has already been registered\n",
      "WARNING: All log messages before absl::InitializeLog() is called are written to STDERR\n",
      "E0000 00:00:1746618481.144516      31 cuda_dnn.cc:8310] Unable to register cuDNN factory: Attempting to register factory for plugin cuDNN when one has already been registered\n",
      "E0000 00:00:1746618481.199299      31 cuda_blas.cc:1418] Unable to register cuBLAS factory: Attempting to register factory for plugin cuBLAS when one has already been registered\n"
     ]
    },
    {
     "name": "stdout",
     "output_type": "stream",
     "text": [
      "\n",
      "Train labels distribution（speed, angle_bin）:\n",
      "   speed  angle_bin  count\n",
      "0    0.0          0    366\n",
      "1    0.0          1    556\n",
      "2    0.0          2   1546\n",
      "3    1.0          0   3814\n",
      "4    1.0          1   2244\n",
      "5    1.0          2   6371\n",
      "\n",
      "Validation labels distribution（speed, angle_bin）:\n",
      "   speed  angle_bin  count\n",
      "0    0.0          0    104\n",
      "1    0.0          1    159\n",
      "2    0.0          2    442\n",
      "3    1.0          0   1090\n",
      "4    1.0          1    641\n",
      "5    1.0          2   1820\n",
      "\n",
      "Test labels distribution（speed, angle_bin）:\n",
      "   speed  angle_bin  count\n",
      "0    0.0          0     52\n",
      "1    0.0          1     80\n",
      "2    0.0          2    221\n",
      "3    1.0          0    545\n",
      "4    1.0          1    321\n",
      "5    1.0          2    910\n",
      "Train size: 14897 (70.00%)\n",
      "Val size:   4256 (20.00%)\n",
      "Test size:  2129 (10.00%)\n"
     ]
    },
    {
     "name": "stderr",
     "output_type": "stream",
     "text": [
      "I0000 00:00:1746618493.052582      31 gpu_device.cc:2022] Created device /job:localhost/replica:0/task:0/device:GPU:0 with 15513 MB memory:  -> device: 0, name: Tesla P100-PCIE-16GB, pci bus id: 0000:00:04.0, compute capability: 6.0\n"
     ]
    }
   ],
   "source": [
    "import numpy as np\n",
    "import pandas as pd\n",
    "from sklearn.model_selection import train_test_split\n",
    "import tensorflow as tf\n",
    "\n",
    "\n",
    "df = pd.read_csv(\"/kaggle/input/realdata/merged.csv\")\n",
    "df[\"image_path\"] = df[\"image_id\"].astype(str) + \".png\"\n",
    "\n",
    "conditions = [\n",
    "    df[\"angle\"] < 0.5,\n",
    "    df[\"angle\"] == 0.5,\n",
    "    df[\"angle\"] > 0.5\n",
    "]\n",
    "choices = [0, 1, 2]\n",
    "\n",
    "df[\"angle_bin\"] = np.select(conditions, choices)\n",
    "\n",
    "\n",
    "df[\"stratify_label\"] = df[\"speed\"].astype(str) + \"_\" + df[\"angle_bin\"].astype(str)\n",
    "\n",
    "\n",
    "label_counts = df[\"stratify_label\"].value_counts()\n",
    "valid_labels = label_counts[label_counts >= 2].index\n",
    "df = df[df[\"stratify_label\"].isin(valid_labels)].reset_index(drop=True)\n",
    "\n",
    "\n",
    "df_temp, df_test = train_test_split(\n",
    "    df,\n",
    "    test_size=0.1,\n",
    "    stratify=df[\"stratify_label\"],\n",
    "    random_state=42\n",
    ")\n",
    "\n",
    "\n",
    "df_train, df_val = train_test_split(\n",
    "    df_temp,\n",
    "    test_size=0.2222,\n",
    "    stratify=df_temp[\"stratify_label\"],\n",
    "    random_state=42\n",
    ")\n",
    "\n",
    "def get_tuple_distribution(df_part, name):\n",
    "    counts = df_part.groupby([\"speed\", \"angle_bin\"]).size().reset_index(name=\"count\")\n",
    "    counts = counts.sort_values(by=[\"speed\", \"angle_bin\"]).reset_index(drop=True)\n",
    "    print(f\"\\n{name} labels distribution（speed, angle_bin）:\")\n",
    "    print(counts)\n",
    "\n",
    "get_tuple_distribution(df_train, \"Train\")\n",
    "get_tuple_distribution(df_val, \"Validation\")\n",
    "get_tuple_distribution(df_test, \"Test\")\n",
    "\n",
    "print(f\"Train size: {len(df_train)} ({len(df_train) / len(df):.2%})\")\n",
    "print(f\"Val size:   {len(df_val)} ({len(df_val) / len(df):.2%})\")\n",
    "print(f\"Test size:  {len(df_test)} ({len(df_test) / len(df):.2%})\")\n",
    "\n",
    "# 转为 tf.data.Dataset \n",
    "\n",
    "def df_to_dataset(df_part):\n",
    "    image_paths = df_part[\"image_path\"].values\n",
    "    angles = df_part[\"angle\"].astype(\"float32\").values\n",
    "    speeds = df_part[\"speed\"].astype(\"float32\").values\n",
    "    return tf.data.Dataset.from_tensor_slices((image_paths, angles, speeds))\n",
    "\n",
    "train_dataset = df_to_dataset(df_train)\n",
    "val_dataset = df_to_dataset(df_val)\n",
    "test_dataset = df_to_dataset(df_test)\n",
    "\n",
    "\n",
    "\n",
    "\n",
    "from tensorflow.keras.applications.mobilenet_v2 import preprocess_input\n",
    "\n",
    "def apply_augmentation(image):\n",
    "    image = tf.image.random_brightness(image, max_delta=0.2)      \n",
    "    image = tf.image.random_contrast(image, lower=0.8, upper=1.2)  \n",
    "    image = tf.image.random_saturation(image, lower=0.8, upper=1.2) \n",
    "    image = tf.image.random_hue(image, max_delta=0.05)         \n",
    "    image = tf.clip_by_value(image, 0.0, 255.0)\n",
    "    return image\n",
    "\n",
    "\n",
    "def parse_image(image_path, angle, speed, augment=False):\n",
    "    image_folder = \"/kaggle/input/realdata/training_data/training_data\"\n",
    "    path = tf.strings.join([image_folder, \"/\", image_path])\n",
    "    img = tf.io.read_file(path)\n",
    "    img = tf.image.decode_png(img, channels=3) \n",
    "    img = tf.image.resize(img, (224, 224))  \n",
    "    if augment:\n",
    "        do_augment = tf.less(tf.random.uniform([], 0, 1.0), 0.2)\n",
    "        img = tf.cond(do_augment, lambda: apply_augmentation(img), lambda: img)\n",
    "\n",
    "\n",
    "    img = preprocess_input(img)\n",
    "\n",
    "    return img, {\"angle_output\": angle, \"speed_output\": speed}\n",
    "\n",
    "\n",
    "batch_size = 32 \n",
    "\n",
    "\n",
    "train_dataset = (\n",
    "    train_dataset\n",
    "    .map(lambda x, y, z: parse_image(x, y, z, augment=True), num_parallel_calls=tf.data.AUTOTUNE)\n",
    "    .shuffle(2000)\n",
    "    .batch(batch_size)\n",
    "    .prefetch(tf.data.AUTOTUNE)\n",
    ")\n",
    "\n",
    "val_dataset = (\n",
    "    val_dataset\n",
    "    .map(parse_image, num_parallel_calls=tf.data.AUTOTUNE)\n",
    "    .batch(batch_size)\n",
    "    .prefetch(tf.data.AUTOTUNE)\n",
    ")\n",
    "\n",
    "\n",
    "test_dataset = (\n",
    "    test_dataset\n",
    "    .map(parse_image, num_parallel_calls=tf.data.AUTOTUNE)\n",
    "    .batch(batch_size)\n",
    "    .prefetch(tf.data.AUTOTUNE)\n",
    ")"
   ]
  },
  {
   "cell_type": "code",
   "execution_count": null,
   "metadata": {
    "execution": {
     "execution_failed": "2025-05-07T11:53:24.552Z",
     "iopub.execute_input": "2025-05-07T11:48:23.848208Z",
     "iopub.status.busy": "2025-05-07T11:48:23.847661Z"
    },
    "trusted": true
   },
   "outputs": [
    {
     "name": "stdout",
     "output_type": "stream",
     "text": [
      "Downloading data from https://storage.googleapis.com/tensorflow/keras-applications/mobilenet_v2/mobilenet_v2_weights_tf_dim_ordering_tf_kernels_1.0_224_no_top.h5\n",
      "\u001b[1m9406464/9406464\u001b[0m \u001b[32m━━━━━━━━━━━━━━━━━━━━\u001b[0m\u001b[37m\u001b[0m \u001b[1m0s\u001b[0m 0us/step\n",
      "(None, 7, 7, 1280)\n",
      "(None, 36, 512)\n",
      "(None, 512)\n",
      "Epoch 1/30\n"
     ]
    },
    {
     "name": "stderr",
     "output_type": "stream",
     "text": [
      "WARNING: All log messages before absl::InitializeLog() is called are written to STDERR\n",
      "I0000 00:00:1746618530.092163      88 service.cc:148] XLA service 0x7872f42159e0 initialized for platform CUDA (this does not guarantee that XLA will be used). Devices:\n",
      "I0000 00:00:1746618530.093136      88 service.cc:156]   StreamExecutor device (0): Tesla P100-PCIE-16GB, Compute Capability 6.0\n",
      "I0000 00:00:1746618531.941102      88 cuda_dnn.cc:529] Loaded cuDNN version 90300\n",
      "E0000 00:00:1746618536.272383      88 gpu_timer.cc:82] Delay kernel timed out: measured time has sub-optimal accuracy. There may be a missing warmup execution, please investigate in Nsight Systems.\n",
      "E0000 00:00:1746618536.468910      88 gpu_timer.cc:82] Delay kernel timed out: measured time has sub-optimal accuracy. There may be a missing warmup execution, please investigate in Nsight Systems.\n"
     ]
    },
    {
     "name": "stdout",
     "output_type": "stream",
     "text": [
      "\u001b[1m  2/466\u001b[0m \u001b[37m━━━━━━━━━━━━━━━━━━━━\u001b[0m \u001b[1m28s\u001b[0m 62ms/step - angle_output_loss: 3.6931 - angle_output_rmse: 3.7096 - loss: 4.6973 - speed_output_accuracy: 0.5391 - speed_output_loss: 0.9629   "
     ]
    },
    {
     "name": "stderr",
     "output_type": "stream",
     "text": [
      "I0000 00:00:1746618542.914656      88 device_compiler.h:188] Compiled cluster using XLA!  This line is logged at most once for the lifetime of the process.\n"
     ]
    },
    {
     "name": "stdout",
     "output_type": "stream",
     "text": [
      "\u001b[1m465/466\u001b[0m \u001b[32m━━━━━━━━━━━━━━━━━━━\u001b[0m\u001b[37m━\u001b[0m \u001b[1m0s\u001b[0m 89ms/step - angle_output_loss: 0.9209 - angle_output_rmse: 1.0086 - loss: 1.1206 - speed_output_accuracy: 0.9373 - speed_output_loss: 0.1769"
     ]
    },
    {
     "name": "stderr",
     "output_type": "stream",
     "text": [
      "E0000 00:00:1746618588.315640      88 gpu_timer.cc:82] Delay kernel timed out: measured time has sub-optimal accuracy. There may be a missing warmup execution, please investigate in Nsight Systems.\n",
      "E0000 00:00:1746618588.514157      88 gpu_timer.cc:82] Delay kernel timed out: measured time has sub-optimal accuracy. There may be a missing warmup execution, please investigate in Nsight Systems.\n"
     ]
    },
    {
     "name": "stdout",
     "output_type": "stream",
     "text": [
      "\u001b[1m466/466\u001b[0m \u001b[32m━━━━━━━━━━━━━━━━━━━━\u001b[0m\u001b[37m\u001b[0m \u001b[1m104s\u001b[0m 144ms/step - angle_output_loss: 0.9184 - angle_output_rmse: 1.0062 - loss: 1.1177 - speed_output_accuracy: 0.9374 - speed_output_loss: 0.1766 - val_angle_output_loss: 0.2179 - val_angle_output_rmse: 0.2435 - val_loss: 1.2832 - val_speed_output_accuracy: 0.8344 - val_speed_output_loss: 1.0565 - learning_rate: 0.0100\n",
      "Epoch 2/30\n",
      "\u001b[1m466/466\u001b[0m \u001b[32m━━━━━━━━━━━━━━━━━━━━\u001b[0m\u001b[37m\u001b[0m \u001b[1m35s\u001b[0m 69ms/step - angle_output_loss: 0.1163 - angle_output_rmse: 0.2707 - loss: 0.1803 - speed_output_accuracy: 0.9847 - speed_output_loss: 0.0561 - val_angle_output_loss: 0.2552 - val_angle_output_rmse: 0.2972 - val_loss: 1.2214 - val_speed_output_accuracy: 0.8344 - val_speed_output_loss: 0.9592 - learning_rate: 0.0100\n",
      "Epoch 3/30\n",
      "\u001b[1m466/466\u001b[0m \u001b[32m━━━━━━━━━━━━━━━━━━━━\u001b[0m\u001b[37m\u001b[0m \u001b[1m35s\u001b[0m 69ms/step - angle_output_loss: 0.1086 - angle_output_rmse: 0.2703 - loss: 0.1629 - speed_output_accuracy: 0.9867 - speed_output_loss: 0.0468 - val_angle_output_loss: 0.1517 - val_angle_output_rmse: 0.2071 - val_loss: 1.3702 - val_speed_output_accuracy: 0.8344 - val_speed_output_loss: 1.2096 - learning_rate: 0.0100\n",
      "Epoch 4/30\n",
      "\u001b[1m466/466\u001b[0m \u001b[32m━━━━━━━━━━━━━━━━━━━━\u001b[0m\u001b[37m\u001b[0m \u001b[1m35s\u001b[0m 69ms/step - angle_output_loss: 0.1013 - angle_output_rmse: 0.2668 - loss: 0.1543 - speed_output_accuracy: 0.9871 - speed_output_loss: 0.0457 - val_angle_output_loss: 0.1788 - val_angle_output_rmse: 0.2360 - val_loss: 0.9176 - val_speed_output_accuracy: 0.8402 - val_speed_output_loss: 0.7327 - learning_rate: 0.0100\n",
      "Epoch 5/30\n",
      "\u001b[1m466/466\u001b[0m \u001b[32m━━━━━━━━━━━━━━━━━━━━\u001b[0m\u001b[37m\u001b[0m \u001b[1m35s\u001b[0m 69ms/step - angle_output_loss: 0.0993 - angle_output_rmse: 0.2706 - loss: 0.1419 - speed_output_accuracy: 0.9903 - speed_output_loss: 0.0365 - val_angle_output_loss: 0.1507 - val_angle_output_rmse: 0.2082 - val_loss: 1.0303 - val_speed_output_accuracy: 0.8362 - val_speed_output_loss: 0.8747 - learning_rate: 0.0100\n",
      "Epoch 6/30\n",
      "\u001b[1m362/466\u001b[0m \u001b[32m━━━━━━━━━━━━━━━\u001b[0m\u001b[37m━━━━━\u001b[0m \u001b[1m6s\u001b[0m 58ms/step - angle_output_loss: 0.0975 - angle_output_rmse: 0.2686 - loss: 0.1430 - speed_output_accuracy: 0.9890 - speed_output_loss: 0.0398"
     ]
    }
   ],
   "source": [
    "from tensorflow.keras.applications import MobileNetV2\n",
    "from tensorflow.keras.layers import GlobalAveragePooling2D, Dense\n",
    "from tensorflow.keras.models import Model\n",
    "from tensorflow.keras import layers, models, backend as K\n",
    "from tensorflow.keras.regularizers import l2\n",
    "\n",
    "def rmse(y_true, y_pred):\n",
    "    return K.sqrt(K.mean(K.square(y_pred - y_true)))\n",
    "\n",
    "\n",
    "\n",
    "base_model = MobileNetV2(weights='imagenet', include_top=False, input_shape=(224, 224, 3))\n",
    "\n",
    "\n",
    "for layer in base_model.layers[9:125]:  \n",
    "    layer.trainable = False\n",
    "\n",
    "x = base_model.output\n",
    "print(x.shape)  \n",
    "x = layers.AveragePooling2D(pool_size=(2, 2), strides=1, padding='valid')(x)  \n",
    "x = layers.Conv2D(512, kernel_size=1, padding='same', activation='relu')(x)   # (6, 6, 512)\n",
    "x = layers.Reshape((36, 512))(x)\n",
    "print(x.shape)  \n",
    "\n",
    "\n",
    "# Transformer 部分\n",
    "transformer = layers.MultiHeadAttention(num_heads=4, key_dim=16)(x, x)  \n",
    "transformer = layers.Dropout(0.1)(transformer)\n",
    "transformer = layers.LayerNormalization(epsilon=1e-6)(transformer)\n",
    "\n",
    "# 残差连接\n",
    "x_transformer = x  \n",
    "x_transformer = layers.Add()([x_transformer, transformer])  \n",
    "x_transformer = layers.LayerNormalization(epsilon=1e-6)(x_transformer)\n",
    "\n",
    "\n",
    "x_pooled = layers.GlobalAveragePooling1D()(x_transformer)  \n",
    "print(x_pooled.shape)  \n",
    "\n",
    "# angle \n",
    "angle_output = layers.Dense(1, activation='linear', kernel_regularizer=l2(0.01), name='angle_output')(x_pooled)  \n",
    "\n",
    "# speed \n",
    "speed_output = layers.Dense(1, activation='sigmoid', kernel_regularizer=l2(0.01), name='speed_output')(x_pooled)  \n",
    "\n",
    "\n",
    "model = models.Model(inputs=base_model.input, outputs=[angle_output, speed_output])\n",
    "\n",
    "\n",
    "\n",
    "#model.summary()\n",
    "\n",
    "#for layer in model.layers:\n",
    "#    print(f\"{layer.name}: Trainable = {layer.trainable}\")\n",
    "\n",
    "model.compile(\n",
    "    optimizer=tf.keras.optimizers.Adam(learning_rate=1e-2),\n",
    "    loss={\n",
    "        \"angle_output\": rmse,\n",
    "        \"speed_output\": \"binary_crossentropy\"\n",
    "    },\n",
    "    metrics={\n",
    "        \"angle_output\": [rmse],         \n",
    "        \"speed_output\": [\"accuracy\"]   \n",
    "    },\n",
    "\n",
    ")\n",
    "\n",
    "lr_reducer = tf.keras.callbacks.ReduceLROnPlateau(\n",
    "    monitor='val_loss',\n",
    "    factor=0.8,\n",
    "    patience=3,    \n",
    "    verbose=1\n",
    ")\n",
    "initial_epochs = 30\n",
    "history_initial = model.fit(\n",
    "    train_dataset,\n",
    "    validation_data=val_dataset,\n",
    "    epochs=initial_epochs,\n",
    "    callbacks=[lr_reducer]\n",
    ")\n"
   ]
  },
  {
   "cell_type": "code",
   "execution_count": null,
   "metadata": {
    "trusted": true
   },
   "outputs": [],
   "source": [
    "model.save(\"my_full_model6.h5\")\n",
    "print(\"Saved full model to my_full_model_17/03.h5\")\n",
    "\n",
    "\n",
    "\n",
    "\n",
    "converter = tf.lite.TFLiteConverter.from_keras_model(model)\n",
    "\n",
    "\n",
    "\n",
    "tflite_model = converter.convert()\n",
    "with open(\"converted_model6.tflite\", \"wb\") as f:\n",
    "    f.write(tflite_model)\n",
    "\n",
    "print(\"Model successfully converted to TensorFlow Lite and saved as 'converted_model.tflite'\")"
   ]
  }
 ],
 "metadata": {
  "kaggle": {
   "accelerator": "gpu",
   "dataSources": [
    {
     "datasetId": 7293927,
     "sourceId": 11626384,
     "sourceType": "datasetVersion"
    }
   ],
   "dockerImageVersionId": 31011,
   "isGpuEnabled": true,
   "isInternetEnabled": true,
   "language": "python",
   "sourceType": "notebook"
  },
  "kernelspec": {
   "display_name": "Python 3",
   "language": "python",
   "name": "python3"
  },
  "language_info": {
   "codemirror_mode": {
    "name": "ipython",
    "version": 3
   },
   "file_extension": ".py",
   "mimetype": "text/x-python",
   "name": "python",
   "nbconvert_exporter": "python",
   "pygments_lexer": "ipython3",
   "version": "3.11.11"
  }
 },
 "nbformat": 4,
 "nbformat_minor": 4
}
